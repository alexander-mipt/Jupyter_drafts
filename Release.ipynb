{
 "cells": [
  {
   "cell_type": "code",
   "execution_count": 3,
   "id": "2be76fcf",
   "metadata": {},
   "outputs": [],
   "source": [
    "import scipy\n",
    "import numpy as np"
   ]
  },
  {
   "cell_type": "code",
   "execution_count": 198,
   "id": "61196744",
   "metadata": {},
   "outputs": [],
   "source": [
    "A_theta = [['cos(T/2)','-sin(T/2)'], ['sin(T/2)', 'cos(T/2)']]\n",
    "P_alpha =[['exp(-i*A/2)', '0'], ['0', 'exp(i*A/2)']]\n",
    "P_gamma =[['exp(-i*G/2)', '0'], ['0', 'exp(i*G/2)']]\n",
    "\n",
    "CNOT_10 = [['1','0', '0', '0'], ['0', '1', '0', '0'], ['0', '0', '0', '1'], ['0', '0', '1', '0']]\n",
    "CNOT_01 = [['1','0', '0', '0'], ['0', '0', '0', '1'], ['0', '0', '1', '0'], ['0', '1', '0', '0']]"
   ]
  },
  {
   "cell_type": "code",
   "execution_count": 226,
   "id": "d3b122be",
   "metadata": {},
   "outputs": [],
   "source": [
    "def replace_arg(matrix_list, name : str, val=''):\n",
    "    if val == '':\n",
    "        return matrix_list\n",
    "    dim = len(matrix_list)\n",
    "    R = []\n",
    "    for i in range(dim):\n",
    "        R.append([])\n",
    "        for j in range(dim):\n",
    "            R[i].append('0')\n",
    "    for i, line in enumerate(matrix_list):\n",
    "        for j, elem in enumerate(line):\n",
    "            R[i][j] = matrix_list[i][j].replace(name, f'({val})')\n",
    "    return R"
   ]
  },
  {
   "cell_type": "code",
   "execution_count": 230,
   "id": "4ea91c10",
   "metadata": {},
   "outputs": [],
   "source": [
    "def Aa(theta=''):\n",
    "    return replace_arg(A_theta, 'T', theta)\n",
    "\n",
    "def Pa(alpha=''):\n",
    "    return replace_arg(P_alpha, 'A', alpha)\n",
    "\n",
    "def Pg(gamma=''):\n",
    "    return replace_arg(P_gamma, 'G', gamma)"
   ]
  },
  {
   "cell_type": "code",
   "execution_count": 231,
   "id": "a8ec2a45",
   "metadata": {},
   "outputs": [],
   "source": [
    "def printWolfrMtrxFmt(lists, n='', elem_delim=''):\n",
    "    print('{', end='')\n",
    "    for idx, line in enumerate(lists):\n",
    "        print('{', end='')\n",
    "        for elem in line[:-1]:\n",
    "            print(f\"{elem}, \", end=elem_delim)\n",
    "        print(f\"{line[-1]}\", end=elem_delim)\n",
    "        if idx != (len(lists) - 1):\n",
    "            print('}, ', end=n)\n",
    "        else:\n",
    "            print('}', end=n)\n",
    "    print('}')\n",
    "    \n",
    "def printWolfrListFmt(lists, line_delim='\\n', elem_delim=''):\n",
    "    print(f'{len(lists)} matrix lines:')\n",
    "    print('{', end=line_delim)\n",
    "    for idx, line in enumerate(lists):\n",
    "        for elem in line[:-1]:\n",
    "            print(f\"{elem}, \", end=elem_delim)\n",
    "        print(f\"{line[-1]}\", end=elem_delim)\n",
    "        if idx != (len(lists) - 1):\n",
    "            print(', ', end=line_delim)\n",
    "        else:\n",
    "            print(f'{line_delim}}}')"
   ]
  },
  {
   "cell_type": "code",
   "execution_count": 232,
   "id": "843b7f14",
   "metadata": {},
   "outputs": [
    {
     "name": "stdout",
     "output_type": "stream",
     "text": [
      "2 matrix lines:\n",
      "{\n",
      "cos((pi/3)/2), -sin((pi/3)/2), \n",
      "sin((pi/3)/2), cos((pi/3)/2)\n",
      "}\n",
      "{{cos(T/2), -sin(T/2)}, {sin(T/2), cos(T/2)}}\n",
      "{{exp(-i*A/2), 0}, {0, exp(i*A/2)}}\n"
     ]
    }
   ],
   "source": [
    "arg = 'pi/3'\n",
    "printWolfrListFmt(Aa(arg))\n",
    "printWolfrMtrxFmt(Aa())\n",
    "printWolfrMtrxFmt(Pa())"
   ]
  },
  {
   "cell_type": "code",
   "execution_count": 203,
   "id": "f27cb082",
   "metadata": {},
   "outputs": [],
   "source": [
    "def decart2_2(A, B):\n",
    "    lines = [[], [], [], []]\n",
    "    for line_idx, line in enumerate(lines):\n",
    "        if (line_idx <= 1):\n",
    "            A_line = A[0]\n",
    "        else:\n",
    "            A_line = A[1]\n",
    "            \n",
    "        B_line = B[line_idx % 2]\n",
    "            \n",
    "        for i in range(4):\n",
    "            line.append(f'({A_line[i // 2]}) * ({B_line[i % 2]})')\n",
    "    return lines   \n",
    "\n",
    "# works correct & copress output\n",
    "def decart2_2_2(A, B):\n",
    "    lines = [[], [], [], []]\n",
    "    for line_idx, line in enumerate(lines):\n",
    "        if (line_idx <= 1):\n",
    "            A_line = A[0]\n",
    "        else:\n",
    "            A_line = A[1]\n",
    "            \n",
    "        B_line = B[line_idx % 2]\n",
    "            \n",
    "        for i in range(4):\n",
    "            if (A_line[i // 2] == '0' or B_line[i % 2] == '0'):\n",
    "                line.append(f'0')\n",
    "            else:\n",
    "                line.append(f'({A_line[i // 2]}) * ({B_line[i % 2]})')\n",
    "    return lines  "
   ]
  },
  {
   "cell_type": "code",
   "execution_count": 204,
   "id": "dc8aec9d",
   "metadata": {},
   "outputs": [],
   "source": [
    "A = [['1', '0'], ['0', 'i']]\n",
    "B = [['0', '-1'], ['1', '0']]"
   ]
  },
  {
   "cell_type": "code",
   "execution_count": 205,
   "id": "31731dcc",
   "metadata": {},
   "outputs": [
    {
     "name": "stdout",
     "output_type": "stream",
     "text": [
      "4 matrix lines:\n",
      "{\n",
      "(1) * (0), (1) * (-1), (0) * (0), (0) * (-1), \n",
      "(1) * (1), (1) * (0), (0) * (1), (0) * (0), \n",
      "(0) * (0), (0) * (-1), (i) * (0), (i) * (-1), \n",
      "(0) * (1), (0) * (0), (i) * (1), (i) * (0)\n",
      "}\n",
      "4 matrix lines:\n",
      "{\n",
      "0, (1) * (-1), 0, 0, \n",
      "(1) * (1), 0, 0, 0, \n",
      "0, 0, 0, (i) * (-1), \n",
      "0, 0, (i) * (1), 0\n",
      "}\n"
     ]
    }
   ],
   "source": [
    "printWolfrListFmt(decart2_2(A, B))\n",
    "printWolfrListFmt(decart2_2_2(A, B))"
   ]
  },
  {
   "cell_type": "code",
   "execution_count": 211,
   "id": "116756ff",
   "metadata": {},
   "outputs": [],
   "source": [
    "def matrix_multiplication(M, N):\n",
    "    dim = len(M)\n",
    "    # List to store matrix multiplication result\n",
    "    R = []\n",
    "    for i in range(dim):\n",
    "        R.append([])\n",
    "        for j in range(dim):\n",
    "            R[i].append('0')\n",
    "    \n",
    "    for i in range(0, dim):\n",
    "        for j in range(0, dim):\n",
    "            for k in range(0, dim):\n",
    "                R[i][j] += f\" + ( ({M[i][k]}) * ({N[k][j]}) )\"\n",
    "    return R\n",
    "\n",
    "def matrix_multiplication2(L, R):\n",
    "    dim_lm = len(L)\n",
    "    dim_ln = len(L[0])\n",
    "    dim_rm = len(R)\n",
    "    dim_rn = len(R[0])\n",
    "    assert(dim_ln == dim_rm)\n",
    "    \n",
    "    \n",
    "    # List to store matrix multiplication result\n",
    "    X = []\n",
    "    for i in range(dim_lm):\n",
    "        X.append([])\n",
    "        for j in range(dim_rn):\n",
    "            X[i].append('0')\n",
    "    \n",
    "    for i in range(0, dim_lm):\n",
    "        for j in range(0, dim_rn):\n",
    "            for k in range(0, dim_rm):\n",
    "                X[i][j] += f\" + ( ({L[i][k]}) * ({R[k][j]}) )\"\n",
    "    return X\n",
    "\n",
    "def matrix_multiplication3(L, R):\n",
    "    dim_lm = len(L)\n",
    "    dim_ln = len(L[0])\n",
    "    dim_rm = len(R)\n",
    "    dim_rn = len(R[0])\n",
    "    assert(dim_ln == dim_rm)\n",
    "    \n",
    "    \n",
    "    # List to store matrix multiplication result\n",
    "    X = []\n",
    "    for i in range(dim_lm):\n",
    "        X.append([])\n",
    "        for j in range(dim_rn):\n",
    "            X[i].append('0')\n",
    "    \n",
    "    for i in range(0, dim_lm):\n",
    "        for j in range(0, dim_rn):\n",
    "            for k in range(0, dim_rm):\n",
    "                if (L[i][k] == '0' or R[k][j] == '0'):\n",
    "                    continue\n",
    "                X[i][j] += f\" + ( ({L[i][k]}) * ({R[k][j]}) )\"\n",
    "    return X\n",
    "\n",
    "# last version (works correct & compress output)\n",
    "def matrix_multiplication4(L, R):\n",
    "    dim_lm = len(L)\n",
    "    dim_ln = len(L[0])\n",
    "    dim_rm = len(R)\n",
    "    dim_rn = len(R[0])\n",
    "    assert(dim_ln == dim_rm)\n",
    "    \n",
    "    \n",
    "    # List to store matrix multiplication result\n",
    "    X = []\n",
    "    for i in range(dim_lm):\n",
    "        X.append([])\n",
    "        for j in range(dim_rn):\n",
    "            X[i].append('')\n",
    "    \n",
    "    for i in range(0, dim_lm):\n",
    "        for j in range(0, dim_rn):\n",
    "            for k in range(0, dim_rm):\n",
    "                if (L[i][k] == '0' or R[k][j] == '0' or L[i][k] == '' or R[k][j] == ''):\n",
    "                    continue\n",
    "                plus='+'\n",
    "                if (X[i][j] == ''):\n",
    "                    plus = ''\n",
    "                X[i][j] += f\"{plus}({L[i][k]})*({R[k][j]})\"\n",
    "    return X"
   ]
  },
  {
   "cell_type": "code",
   "execution_count": 212,
   "id": "29b6ec39",
   "metadata": {},
   "outputs": [
    {
     "name": "stdout",
     "output_type": "stream",
     "text": [
      "2 matrix lines:\n",
      "{\n",
      "0 + ( (1) * (-1) ) + ( (2) * (-3) ), 0 + ( (1) * (-2) ) + ( (2) * (-4) ), \n",
      "0 + ( (0) * (-1) ) + ( (4) * (-3) ), 0 + ( (0) * (-2) ) + ( (4) * (-4) )\n",
      "}\n",
      "2 matrix lines:\n",
      "{\n",
      "0 + ( (1) * (-1) ) + ( (2) * (-3) ), 0 + ( (1) * (-2) ) + ( (2) * (-4) ), \n",
      "0 + ( (0) * (-1) ) + ( (4) * (-3) ), 0 + ( (0) * (-2) ) + ( (4) * (-4) )\n",
      "}\n",
      "2 matrix lines:\n",
      "{\n",
      "0 + ( (1) * (-1) ) + ( (2) * (-3) ), 0 + ( (1) * (-2) ) + ( (2) * (-4) ), \n",
      "0 + ( (4) * (-3) ), 0 + ( (4) * (-4) )\n",
      "}\n",
      "2 matrix lines:\n",
      "{\n",
      "(1)*(-1)+(2)*(-3), (1)*(-2)+(2)*(-4), \n",
      "(4)*(-3), (4)*(-4)\n",
      "}\n"
     ]
    }
   ],
   "source": [
    "A = [['1', '2'], ['0', '4']]\n",
    "B = [['-1', '-2'], ['-3', '-4']]\n",
    "C = [['1'], ['2']]\n",
    "printWolfrListFmt(matrix_multiplication(A, B))\n",
    "printWolfrListFmt(matrix_multiplication2(A, B))\n",
    "printWolfrListFmt(matrix_multiplication3(A, B))\n",
    "printWolfrListFmt(matrix_multiplication4(A, B))"
   ]
  },
  {
   "cell_type": "code",
   "execution_count": 214,
   "id": "8ec37661",
   "metadata": {},
   "outputs": [],
   "source": [
    "def transpose_vector(v : list):\n",
    "    r = []\n",
    "    for elem in v[0]:\n",
    "        r.append([elem])\n",
    "    return r"
   ]
  },
  {
   "cell_type": "code",
   "execution_count": 215,
   "id": "c0e52109",
   "metadata": {},
   "outputs": [
    {
     "name": "stdout",
     "output_type": "stream",
     "text": [
      "[['1'], ['2'], ['3']]\n",
      "1 matrix lines:\n",
      "{\n",
      "(1)*(1)+(2)*(2)+(3)*(3)\n",
      "}\n"
     ]
    }
   ],
   "source": [
    "a = [['1', '2', '3']]\n",
    "print(transpose_vector(a))\n",
    "b = transpose_vector(a)\n",
    "printWolfrListFmt(matrix_multiplication4(a, b))"
   ]
  },
  {
   "cell_type": "code",
   "execution_count": 216,
   "id": "84cc9e47",
   "metadata": {},
   "outputs": [],
   "source": [
    "def reduction4_4_1(M):\n",
    "    R = [['', ''],['', '']]\n",
    "    R[0][0] = f'{M[0][0]} + {M[1][1]}'\n",
    "    R[0][1] = f'{M[0][2]} + {M[1][3]}'\n",
    "    R[1][0] = f'{M[2][0]} + {M[3][1]}'\n",
    "    R[1][1] = f'{M[2][2]} + {M[3][3]}'\n",
    "    return R\n",
    "\n",
    "def reduction4_4_2(M):\n",
    "    R = [['', ''],['' ,'']]\n",
    "    R[0][0] = f'{M[0][0]} + {M[2][2]}'\n",
    "    R[0][1] = f'{M[0][1]} + {M[2][3]}'\n",
    "    R[1][0] = f'{M[1][0]} + {M[3][2]}'\n",
    "    R[1][1] = f'{M[1][1]} + {M[3][3]}'\n",
    "    return R"
   ]
  },
  {
   "cell_type": "markdown",
   "id": "6de4c4ce",
   "metadata": {},
   "source": [
    "# Чистовик\n",
    "## Задача 2 (вариант б)"
   ]
  },
  {
   "cell_type": "code",
   "execution_count": 217,
   "id": "3c7d9f2d",
   "metadata": {},
   "outputs": [],
   "source": [
    "theta_1 = 'pi/2'\n",
    "gamma_1 = 'pi/4'\n",
    "theta_2 = 'pi'\n",
    "gamma_2 = 'pi/3'"
   ]
  },
  {
   "cell_type": "code",
   "execution_count": 218,
   "id": "00266266",
   "metadata": {},
   "outputs": [],
   "source": [
    "U1 = decart2_2_2(Pg(gamma_1), Aa(theta=theta_2))\n",
    "U2 = decart2_2_2(Aa(theta_1), Pg(gamma_2))\n",
    "\n",
    "U_CNOT10 = matrix_multiplication4(U2, CNOT_10)\n",
    "U = matrix_multiplication4(U_CNOT10, U1)"
   ]
  },
  {
   "cell_type": "code",
   "execution_count": 219,
   "id": "b119eb17",
   "metadata": {},
   "outputs": [],
   "source": [
    "xsi0 = [['0'],['1/sqrt(2)'],['-1/sqrt(2)'],['0']]\n",
    "xsi = matrix_multiplication4(U, xsi0)\n",
    "ro = matrix_multiplication4(xsi, transpose_vector(xsi))"
   ]
  },
  {
   "cell_type": "code",
   "execution_count": 220,
   "id": "3b726409",
   "metadata": {
    "scrolled": true
   },
   "outputs": [
    {
     "name": "stdout",
     "output_type": "stream",
     "text": [
      "2 matrix lines:\n",
      "{\n",
      "exp(-i*(pi/4)/2), 0, \n",
      "0, exp(i*(pi/4)/2)\n",
      "}\n",
      "2 matrix lines:\n",
      "{\n",
      "exp(-i*(pi/3)/2), 0, \n",
      "0, exp(i*(pi/3)/2)\n",
      "}\n",
      "2 matrix lines:\n",
      "{\n",
      "cos((pi/2)/2), -sin((pi/2)/2), \n",
      "sin((pi/2)/2), cos((pi/2)/2)\n",
      "}\n",
      "2 matrix lines:\n",
      "{\n",
      "cos((pi)/2), -sin((pi)/2), \n",
      "sin((pi)/2), cos((pi)/2)\n",
      "}\n",
      "U 1,2:\n",
      "4 matrix lines:\n",
      "{\n",
      "(exp(-i*(pi/4)/2)) * (cos((pi)/2)), (exp(-i*(pi/4)/2)) * (-sin((pi)/2)), 0, 0, \n",
      "(exp(-i*(pi/4)/2)) * (sin((pi)/2)), (exp(-i*(pi/4)/2)) * (cos((pi)/2)), 0, 0, \n",
      "0, 0, (exp(i*(pi/4)/2)) * (cos((pi)/2)), (exp(i*(pi/4)/2)) * (-sin((pi)/2)), \n",
      "0, 0, (exp(i*(pi/4)/2)) * (sin((pi)/2)), (exp(i*(pi/4)/2)) * (cos((pi)/2))\n",
      "}\n",
      "4 matrix lines:\n",
      "{\n",
      "(cos((pi/2)/2)) * (exp(-i*(pi/3)/2)), 0, (-sin((pi/2)/2)) * (exp(-i*(pi/3)/2)), 0, \n",
      "0, (cos((pi/2)/2)) * (exp(i*(pi/3)/2)), 0, (-sin((pi/2)/2)) * (exp(i*(pi/3)/2)), \n",
      "(sin((pi/2)/2)) * (exp(-i*(pi/3)/2)), 0, (cos((pi/2)/2)) * (exp(-i*(pi/3)/2)), 0, \n",
      "0, (sin((pi/2)/2)) * (exp(i*(pi/3)/2)), 0, (cos((pi/2)/2)) * (exp(i*(pi/3)/2))\n",
      "}\n",
      "U:\n",
      "4 matrix lines:\n",
      "{\n",
      "(((cos((pi/2)/2)) * (exp(-i*(pi/3)/2)))*(1))*((exp(-i*(pi/4)/2)) * (cos((pi)/2))), \n",
      "(((cos((pi/2)/2)) * (exp(-i*(pi/3)/2)))*(1))*((exp(-i*(pi/4)/2)) * (-sin((pi)/2))), \n",
      "(((-sin((pi/2)/2)) * (exp(-i*(pi/3)/2)))*(1))*((exp(i*(pi/4)/2)) * (sin((pi)/2))), \n",
      "(((-sin((pi/2)/2)) * (exp(-i*(pi/3)/2)))*(1))*((exp(i*(pi/4)/2)) * (cos((pi)/2)))\n",
      ", \n",
      "(((cos((pi/2)/2)) * (exp(i*(pi/3)/2)))*(1))*((exp(-i*(pi/4)/2)) * (sin((pi)/2))), \n",
      "(((cos((pi/2)/2)) * (exp(i*(pi/3)/2)))*(1))*((exp(-i*(pi/4)/2)) * (cos((pi)/2))), \n",
      "(((-sin((pi/2)/2)) * (exp(i*(pi/3)/2)))*(1))*((exp(i*(pi/4)/2)) * (cos((pi)/2))), \n",
      "(((-sin((pi/2)/2)) * (exp(i*(pi/3)/2)))*(1))*((exp(i*(pi/4)/2)) * (-sin((pi)/2)))\n",
      ", \n",
      "(((sin((pi/2)/2)) * (exp(-i*(pi/3)/2)))*(1))*((exp(-i*(pi/4)/2)) * (cos((pi)/2))), \n",
      "(((sin((pi/2)/2)) * (exp(-i*(pi/3)/2)))*(1))*((exp(-i*(pi/4)/2)) * (-sin((pi)/2))), \n",
      "(((cos((pi/2)/2)) * (exp(-i*(pi/3)/2)))*(1))*((exp(i*(pi/4)/2)) * (sin((pi)/2))), \n",
      "(((cos((pi/2)/2)) * (exp(-i*(pi/3)/2)))*(1))*((exp(i*(pi/4)/2)) * (cos((pi)/2)))\n",
      ", \n",
      "(((sin((pi/2)/2)) * (exp(i*(pi/3)/2)))*(1))*((exp(-i*(pi/4)/2)) * (sin((pi)/2))), \n",
      "(((sin((pi/2)/2)) * (exp(i*(pi/3)/2)))*(1))*((exp(-i*(pi/4)/2)) * (cos((pi)/2))), \n",
      "(((cos((pi/2)/2)) * (exp(i*(pi/3)/2)))*(1))*((exp(i*(pi/4)/2)) * (cos((pi)/2))), \n",
      "(((cos((pi/2)/2)) * (exp(i*(pi/3)/2)))*(1))*((exp(i*(pi/4)/2)) * (-sin((pi)/2)))\n",
      "\n",
      "}\n"
     ]
    }
   ],
   "source": [
    "printWolfrListFmt(Pg(gamma_1))\n",
    "printWolfrListFmt(Pg(gamma_2))\n",
    "printWolfrListFmt(Aa(theta_1))\n",
    "printWolfrListFmt(Aa(theta_2))\n",
    "print(\"U 1,2:\")\n",
    "printWolfrListFmt(U1)\n",
    "printWolfrListFmt(U2)\n",
    "print(\"U:\")\n",
    "printWolfrListFmt(U, elem_delim='\\n')"
   ]
  },
  {
   "cell_type": "code",
   "execution_count": 221,
   "id": "4ebe9463",
   "metadata": {},
   "outputs": [
    {
     "name": "stdout",
     "output_type": "stream",
     "text": [
      "4 matrix lines:\n",
      "{\n",
      "((((cos((pi/2)/2)) * (exp(-i*(pi/3)/2)))*(1))*((exp(-i*(pi/4)/2)) * (-sin((pi)/2))))*(1/sqrt(2))+((((-sin((pi/2)/2)) * (exp(-i*(pi/3)/2)))*(1))*((exp(i*(pi/4)/2)) * (sin((pi)/2))))*(-1/sqrt(2))\n",
      ", \n",
      "((((cos((pi/2)/2)) * (exp(i*(pi/3)/2)))*(1))*((exp(-i*(pi/4)/2)) * (cos((pi)/2))))*(1/sqrt(2))+((((-sin((pi/2)/2)) * (exp(i*(pi/3)/2)))*(1))*((exp(i*(pi/4)/2)) * (cos((pi)/2))))*(-1/sqrt(2))\n",
      ", \n",
      "((((sin((pi/2)/2)) * (exp(-i*(pi/3)/2)))*(1))*((exp(-i*(pi/4)/2)) * (-sin((pi)/2))))*(1/sqrt(2))+((((cos((pi/2)/2)) * (exp(-i*(pi/3)/2)))*(1))*((exp(i*(pi/4)/2)) * (sin((pi)/2))))*(-1/sqrt(2))\n",
      ", \n",
      "((((sin((pi/2)/2)) * (exp(i*(pi/3)/2)))*(1))*((exp(-i*(pi/4)/2)) * (cos((pi)/2))))*(1/sqrt(2))+((((cos((pi/2)/2)) * (exp(i*(pi/3)/2)))*(1))*((exp(i*(pi/4)/2)) * (cos((pi)/2))))*(-1/sqrt(2))\n",
      "\n",
      "}\n",
      "4 matrix lines:\n",
      "{\n",
      "(((((cos((pi/2)/2)) * (exp(-i*(pi/3)/2)))*(1))*((exp(-i*(pi/4)/2)) * (-sin((pi)/2))))*(1/sqrt(2))+((((-sin((pi/2)/2)) * (exp(-i*(pi/3)/2)))*(1))*((exp(i*(pi/4)/2)) * (sin((pi)/2))))*(-1/sqrt(2)))*(((((cos((pi/2)/2)) * (exp(-i*(pi/3)/2)))*(1))*((exp(-i*(pi/4)/2)) * (-sin((pi)/2))))*(1/sqrt(2))+((((-sin((pi/2)/2)) * (exp(-i*(pi/3)/2)))*(1))*((exp(i*(pi/4)/2)) * (sin((pi)/2))))*(-1/sqrt(2))), \n",
      "(((((cos((pi/2)/2)) * (exp(i*(pi/3)/2)))*(1))*((exp(-i*(pi/4)/2)) * (cos((pi)/2))))*(1/sqrt(2))+((((-sin((pi/2)/2)) * (exp(i*(pi/3)/2)))*(1))*((exp(i*(pi/4)/2)) * (cos((pi)/2))))*(-1/sqrt(2)))*(((((cos((pi/2)/2)) * (exp(-i*(pi/3)/2)))*(1))*((exp(-i*(pi/4)/2)) * (-sin((pi)/2))))*(1/sqrt(2))+((((-sin((pi/2)/2)) * (exp(-i*(pi/3)/2)))*(1))*((exp(i*(pi/4)/2)) * (sin((pi)/2))))*(-1/sqrt(2))), \n",
      "(((((sin((pi/2)/2)) * (exp(-i*(pi/3)/2)))*(1))*((exp(-i*(pi/4)/2)) * (-sin((pi)/2))))*(1/sqrt(2))+((((cos((pi/2)/2)) * (exp(-i*(pi/3)/2)))*(1))*((exp(i*(pi/4)/2)) * (sin((pi)/2))))*(-1/sqrt(2)))*(((((cos((pi/2)/2)) * (exp(-i*(pi/3)/2)))*(1))*((exp(-i*(pi/4)/2)) * (-sin((pi)/2))))*(1/sqrt(2))+((((-sin((pi/2)/2)) * (exp(-i*(pi/3)/2)))*(1))*((exp(i*(pi/4)/2)) * (sin((pi)/2))))*(-1/sqrt(2))), \n",
      "(((((sin((pi/2)/2)) * (exp(i*(pi/3)/2)))*(1))*((exp(-i*(pi/4)/2)) * (cos((pi)/2))))*(1/sqrt(2))+((((cos((pi/2)/2)) * (exp(i*(pi/3)/2)))*(1))*((exp(i*(pi/4)/2)) * (cos((pi)/2))))*(-1/sqrt(2)))*(((((cos((pi/2)/2)) * (exp(-i*(pi/3)/2)))*(1))*((exp(-i*(pi/4)/2)) * (-sin((pi)/2))))*(1/sqrt(2))+((((-sin((pi/2)/2)) * (exp(-i*(pi/3)/2)))*(1))*((exp(i*(pi/4)/2)) * (sin((pi)/2))))*(-1/sqrt(2)))\n",
      "}\n"
     ]
    }
   ],
   "source": [
    "printWolfrListFmt(xsi, elem_delim='\\n')\n",
    "printWolfrListFmt(ro)"
   ]
  },
  {
   "cell_type": "markdown",
   "id": "950bcd9b",
   "metadata": {},
   "source": [
    "Тут вручную вбил матрицу, ибо тут, к сожалению, достигается предельная длина символьной последовательности вольфрама("
   ]
  },
  {
   "cell_type": "code",
   "execution_count": 222,
   "id": "d664a78b",
   "metadata": {},
   "outputs": [
    {
     "name": "stdout",
     "output_type": "stream",
     "text": [
      "2 matrix lines:\n",
      "{\n",
      "(-exp(7*i*pi/24)+exp(-i*pi/24))^2 + 0, (-exp(7*i*pi/24)+exp(-i*pi/24))*(-exp(-7*i*pi/24)-exp(-i*pi/24)) + 0, \n",
      "(-exp(7*i*pi/24)+exp(-i*pi/24))*(-exp(-7*i*pi/24)-exp(-i*pi/24)) + 0, (-exp(-7*i*pi/24)-exp(-i*pi/24))^2 + 0\n",
      "}\n",
      "2 matrix lines:\n",
      "{\n",
      "(-exp(7*i*pi/24)+exp(-i*pi/24))^2 + (-exp(-7*i*pi/24)-exp(-i*pi/24))^2, 0 + 0, \n",
      "0 + 0, 0 + 0\n",
      "}\n"
     ]
    }
   ],
   "source": [
    "val1='(-exp(7*i*pi/24)+exp(-i*pi/24))'\n",
    "val2='(-exp(-7*i*pi/24)-exp(-i*pi/24))'\n",
    "ro = [[f'{val1}^2', '0', f'{val1}*{val2}', '0'], ['0', '0', '0', '0'], [f'{val1}*{val2}', '0', f'{val2}^2', '0'], ['0', '0', '0', '0']]\n",
    "\n",
    "ro1 = reduction4_4_1(ro)\n",
    "ro2 = reduction4_4_2(ro)\n",
    "\n",
    "printWolfrListFmt(ro1)\n",
    "printWolfrListFmt(ro2)"
   ]
  },
  {
   "cell_type": "markdown",
   "id": "ff2f9ccb",
   "metadata": {},
   "source": [
    "### Ответы сверял с печатной версией решения (вариант б)"
   ]
  },
  {
   "cell_type": "markdown",
   "id": "f88ca3d8",
   "metadata": {},
   "source": [
    "## Задача 1"
   ]
  },
  {
   "cell_type": "code",
   "execution_count": 233,
   "id": "db7bd5bb",
   "metadata": {},
   "outputs": [
    {
     "name": "stdout",
     "output_type": "stream",
     "text": [
      "2 matrix lines:\n",
      "{\n",
      "((exp(-i*A/2))*(cos(T/2)))*(exp(-i*G/2)), ((exp(-i*A/2))*(-sin(T/2)))*(exp(i*G/2)), \n",
      "((exp(i*A/2))*(sin(T/2)))*(exp(-i*G/2)), ((exp(i*A/2))*(cos(T/2)))*(exp(i*G/2))\n",
      "}\n"
     ]
    }
   ],
   "source": [
    "M1 = matrix_multiplication4(Pa(),Aa())\n",
    "M = matrix_multiplication4(M1, Pg())\n",
    "\n",
    "printWolfrListFmt(M)"
   ]
  },
  {
   "cell_type": "code",
   "execution_count": null,
   "id": "a6965f19",
   "metadata": {},
   "outputs": [],
   "source": []
  }
 ],
 "metadata": {
  "kernelspec": {
   "display_name": "Python 3 (ipykernel)",
   "language": "python",
   "name": "python3"
  },
  "language_info": {
   "codemirror_mode": {
    "name": "ipython",
    "version": 3
   },
   "file_extension": ".py",
   "mimetype": "text/x-python",
   "name": "python",
   "nbconvert_exporter": "python",
   "pygments_lexer": "ipython3",
   "version": "3.10.8"
  }
 },
 "nbformat": 4,
 "nbformat_minor": 5
}
